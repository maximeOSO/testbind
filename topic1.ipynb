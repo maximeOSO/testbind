{
 "cells": [
  {
   "cell_type": "markdown",
   "id": "magnetic-cycling",
   "metadata": {},
   "source": [
    "# Topic 1: A tour in Python and Numerical analysis\n",
    "\n",
    "This notebook demonstrates the benefit of using **Python** and **numerical analysis** methods for scientific applications built on real datasets.\n",
    "\n",
    "In this project, you will learn about:\n",
    "- loops\n",
    "- conditions\n",
    "- curve fitting\n",
    "- making figures\n",
    "\n",
    "If you are new to Python, take a look at its [official website](https://www.python.org/).\n",
    "\n",
    "You are asked to read, complete and/or run the cells below. Don't hesitate to double click in the **Markdown** cells (such as this one) to familiarize yourself with the **Jupyter notebook** syntax. Understanding such notenook will help you throughout this course, other courses and [more](https://www.nature.com/articles/d41586-018-07196-1).\n",
    "\n",
    "## Code cells\n",
    "\n",
    "Below is a **code cell**, which perform the operation in it upon typing `ctrl-Enter`"
   ]
  },
  {
   "cell_type": "code",
   "execution_count": 1,
   "id": "engaged-merchant",
   "metadata": {
    "scrolled": true
   },
   "outputs": [
    {
     "name": "stdout",
     "output_type": "stream",
     "text": [
      "Hello world\n"
     ]
    }
   ],
   "source": [
    "# This is a comment\n",
    "# Just run this simple cell and check the output\n",
    "\n",
    "print(\"Hello world\")"
   ]
  },
  {
   "cell_type": "markdown",
   "id": "conceptual-director",
   "metadata": {},
   "source": [
    "## Packages\n",
    "Let us import a few useful packages"
   ]
  },
  {
   "cell_type": "code",
   "execution_count": 2,
   "id": "increasing-inflation",
   "metadata": {},
   "outputs": [],
   "source": [
    "import numpy as np               # numerical analysi tools\n",
    "import pandas as pd              # datasets manipulation tools\n",
    "import matplotlib.pyplot as plt  # graphics"
   ]
  },
  {
   "cell_type": "markdown",
   "id": "patient-calvin",
   "metadata": {},
   "source": [
    "## GNSS data analysis\n",
    "\n",
    "GNSS stands for Global Navigation Satelite System. You probably know one of them, the Global Positionning System or GPS. Let's upload some."
   ]
  },
  {
   "cell_type": "code",
   "execution_count": 30,
   "id": "south-purchase",
   "metadata": {},
   "outputs": [
    {
     "name": "stdout",
     "output_type": "stream",
     "text": [
      "<class 'pandas.core.frame.DataFrame'>\n",
      "RangeIndex: 10096 entries, 0 to 10095\n",
      "Data columns (total 17 columns):\n",
      " #   Column    Non-Null Count  Dtype  \n",
      "---  ------    --------------  -----  \n",
      " 0   dec_year  10096 non-null  float64\n",
      " 1   East      10096 non-null  float64\n",
      " 2   North     10096 non-null  float64\n",
      " 3   Vert      10096 non-null  float64\n",
      " 4   sE        10096 non-null  float64\n",
      " 5   sN        10096 non-null  float64\n",
      " 6   sV        10096 non-null  float64\n",
      " 7   cEN       10096 non-null  float64\n",
      " 8   cEV       10096 non-null  float64\n",
      " 9   cNV       10096 non-null  float64\n",
      " 10  secJ2000  10096 non-null  float64\n",
      " 11  YYYY      10096 non-null  int64  \n",
      " 12  MT        10096 non-null  int64  \n",
      " 13  DD        10096 non-null  int64  \n",
      " 14  HH        10096 non-null  int64  \n",
      " 15  MN        10096 non-null  int64  \n",
      " 16  SS        10096 non-null  int64  \n",
      "dtypes: float64(11), int64(6)\n",
      "memory usage: 1.3 MB\n",
      "None\n"
     ]
    }
   ],
   "source": [
    "# upload data as a pandas Dataframe\n",
    "data = pd.read_csv(\"/home/maxime/Class/SEE125\" \\\n",
    "                   \"/exercises/ONSA.series\", header=None, \\\n",
    "                  delim_whitespace=True)\n",
    "\n",
    "# give a name to each column\n",
    "data.columns = ['dec_year', 'East', 'North', 'Vert', \\\n",
    "               'sE', 'sN', 'sV', 'cEN', 'cEV', 'cNV', \\\n",
    "               'secJ2000', 'YYYY','MT','DD','HH','MN','SS']\n",
    "\n",
    "# print information\n",
    "print(data.info())"
   ]
  },
  {
   "cell_type": "code",
   "execution_count": null,
   "id": "russian-bennett",
   "metadata": {
    "scrolled": true
   },
   "outputs": [],
   "source": [
    "# Print out the first and last dates of data\n",
    "# Note that Python indexing starts at 0\n",
    "# ***********************\n",
    "t_first = #TODO\n",
    "t_last = #TODO\n",
    "# ***********************\n",
    "\n",
    "print('The time series ranges from {0:.2f} to {1:.2f}, so {2:.2f} years'.format(t_first, t_last, t_last-t_first))"
   ]
  },
  {
   "cell_type": "markdown",
   "id": "accurate-tampa",
   "metadata": {},
   "source": [
    "## Functions\n",
    "\n",
    "Rather than repeating the same operations for different variables, you may write your own functions once for all and call it whenever you need it. \n",
    "\n",
    "`def myfunction(param1, param2):\n",
    "    return param1**2 + param2 - 8\n",
    "`\n",
    "\n",
    "Note that if you defined a function in another code than the one you are presentely writing, you can just import the function them from that other code.\n",
    "\n",
    "`from another_code import myfunction`\n",
    "\n",
    "Then you can use `myfunction`."
   ]
  },
  {
   "cell_type": "code",
   "execution_count": 26,
   "id": "widespread-destruction",
   "metadata": {},
   "outputs": [
    {
     "name": "stdout",
     "output_type": "stream",
     "text": [
      "25.0\n"
     ]
    }
   ],
   "source": [
    "def my_square_function(x):\n",
    "    \"\"\" A square function:\n",
    "    Input\n",
    "    x: float or int, the value to square\n",
    "    Output\n",
    "    x to the power 2\n",
    "    \"\"\"\n",
    "    return x**2\n",
    "\n",
    "b = my_square_function(5.0)\n",
    "print(b)"
   ]
  },
  {
   "cell_type": "markdown",
   "id": "absent-difficulty",
   "metadata": {},
   "source": [
    "## Ploting data\n",
    "\n",
    "Develop the habit to make clear graphs that are self explanatory, with labels, legends, legible fontsize etc... The standard package for making graphs (and other figures) in Python is called Matplotlib.pyplot, which you imported already as `plt`.\n",
    "\n",
    "Here is a standard usage"
   ]
  },
  {
   "cell_type": "code",
   "execution_count": 42,
   "id": "contemporary-correlation",
   "metadata": {},
   "outputs": [
    {
     "data": {
      "image/png": "[encoded data removed]",
      "text/plain": [
       "<Figure size 720x360 with 1 Axes>"
      ]
     },
     "metadata": {
      "needs_background": "light"
     },
     "output_type": "display_data"
    }
   ],
   "source": [
    "fig, ax = plt.subplots(figsize=(10,5))  # Create a figure containing a single axes.\n",
    "ax.plot(data.dec_year, data.Vert, label='Vertical component')\n",
    "for label in (ax.get_xticklabels() + ax.get_yticklabels()): label.set_fontsize(16)\n",
    "ax.set_xlabel('years', fontsize=18.0)  # Add an x-label to the axes.\n",
    "ax.set_ylabel('meters', fontsize=18.0)  # Add a y-label to the axes.\n",
    "ax.set_title(\"GNSS record at ONSA\", fontsize=20.0)  # Add a title to the axes.\n",
    "ax.legend()  # Add a legend.\n",
    "plt.savefig('/home/maxime/Desktop/onsa.jpg') # save your plot locally "
   ]
  },
  {
   "cell_type": "markdown",
   "id": "bored-diameter",
   "metadata": {},
   "source": [
    "## Fiting data\n",
    "text\n",
    "\n",
    "## Redo for more sites\n",
    "text \n",
    "\n",
    "## Exercises\n",
    "text"
   ]
  },
  {
   "cell_type": "code",
   "execution_count": null,
   "id": "square-rainbow",
   "metadata": {},
   "outputs": [],
   "source": []
  }
 ],
 "metadata": {
  "kernelspec": {
   "display_name": "Python 3",
   "language": "python",
   "name": "python3"
  },
  "language_info": {
   "codemirror_mode": {
    "name": "ipython",
    "version": 3
   },
   "file_extension": ".py",
   "mimetype": "text/x-python",
   "name": "python",
   "nbconvert_exporter": "python",
   "pygments_lexer": "ipython3",
   "version": "3.8.8"
  }
 },
 "nbformat": 4,
 "nbformat_minor": 5
}
