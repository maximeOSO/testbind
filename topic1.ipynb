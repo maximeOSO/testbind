{
 "cells": [
  {
   "cell_type": "markdown",
   "id": "ethical-fitting",
   "metadata": {},
   "source": [
    "# Topic 1: A tour in Python and Numerical analysis\n",
    "\n",
    "This notebook demonstrates the benefit of using **Python** and **numerical analysis** methods for scientific applications built on real datasets.\n",
    "\n",
    "In this project, you will learn about:\n",
    "- loops\n",
    "- conditions\n",
    "- curve fitting\n",
    "- making figures\n",
    "\n",
    "If you are new to Python, take a look at its [official website](https://www.python.org/).\n",
    "\n",
    "You are asked to read, complete and/or run the cells below. Don't hesitate to double click in the **Markdown** cells (such as this one) to familiarize yourself with the **Jupyter notebook** syntax. Understanding such notenook will help you throughout this course, other courses and [more](https://www.nature.com/articles/d41586-018-07196-1).\n",
    "\n",
    "## Code cells\n",
    "\n",
    "Below is a **code cell**, which perform the operation in it upon typing `ctrl-Enter`"
   ]
  },
  {
   "cell_type": "code",
   "execution_count": null,
   "id": "structural-plane",
   "metadata": {
    "scrolled": true
   },
   "outputs": [],
   "source": [
    "# This is a comment\n",
    "# Just run this simple cell and check the output\n",
    "\n",
    "print(\"Hello world\")"
   ]
  },
  {
   "cell_type": "markdown",
   "id": "informative-champagne",
   "metadata": {},
   "source": [
    "## Packages\n",
    "Let us import a few useful packages"
   ]
  },
  {
   "cell_type": "code",
   "execution_count": null,
   "id": "helpful-split",
   "metadata": {},
   "outputs": [],
   "source": [
    "import numpy as np               # numerical analysi tools\n",
    "import pandas as pd              # datasets manipulation tools\n",
    "import matplotlib.pyplot as plt  # graphics"
   ]
  },
  {
   "cell_type": "markdown",
   "id": "strong-regression",
   "metadata": {},
   "source": [
    "## GNSS data analysis\n",
    "\n",
    "GNSS stands for Global Navigation Satelite System. You probably know one of them, the Global Positionning System or GPS. Let's upload some."
   ]
  },
  {
   "cell_type": "code",
   "execution_count": null,
   "id": "level-official",
   "metadata": {},
   "outputs": [],
   "source": [
    "# upload data as a pandas Dataframe\n",
    "data = pd.read_csv(\"ONSA.series\", header=None, delim_whitespace=True)\n",
    "\n",
    "# give a name to each column\n",
    "data.columns = ['dec_year', 'East', 'North', 'Vert', \\\n",
    "               'sE', 'sN', 'sV', 'cEN', 'cEV', 'cNV', \\\n",
    "               'secJ2000', 'YYYY','MT','DD','HH','MN','SS']\n",
    "\n",
    "# print information\n",
    "print(data.info())"
   ]
  },
  {
   "cell_type": "code",
   "execution_count": null,
   "id": "authentic-wiring",
   "metadata": {
    "scrolled": true
   },
   "outputs": [],
   "source": [
    "# Print out the first and last dates of data\n",
    "# Note that Python indexing starts at 0\n",
    "# ***********************\n",
    "t_first = #TODO\n",
    "t_last = #TODO\n",
    "# ***********************\n",
    "\n",
    "print('The time series ranges from {0:.2f} to {1:.2f}, so {2:.2f} years'.format(t_first, t_last, t_last-t_first))"
   ]
  },
  {
   "cell_type": "markdown",
   "id": "miniature-owner",
   "metadata": {},
   "source": [
    "## Functions\n",
    "\n",
    "Rather than repeating the same operations for different variables, you may write your own functions once for all and call it whenever you need it. \n",
    "\n",
    "`def myfunction(param1, param2):\n",
    "    return param1**2 + param2 - 8\n",
    "`\n",
    "\n",
    "Note that if you defined a function in another code than the one you are presentely writing, you can just import the function them from that other code.\n",
    "\n",
    "`from another_code import myfunction`\n",
    "\n",
    "Then you can use `myfunction`."
   ]
  },
  {
   "cell_type": "code",
   "execution_count": null,
   "id": "optical-pixel",
   "metadata": {},
   "outputs": [],
   "source": [
    "def my_square_function(x):\n",
    "    \"\"\" A square function:\n",
    "    Input\n",
    "    x: float or int, the value to square\n",
    "    Output\n",
    "    x to the power 2\n",
    "    \"\"\"\n",
    "    return x**2\n",
    "\n",
    "b = my_square_function(5.0)\n",
    "print(b)"
   ]
  },
  {
   "cell_type": "markdown",
   "id": "ancient-bible",
   "metadata": {},
   "source": [
    "## Ploting data\n",
    "\n",
    "Develop the habit to make clear graphs that are self explanatory, with labels, legends, legible fontsize etc... The standard package for making graphs (and other figures) in Python is called Matplotlib.pyplot, which you imported already as `plt`.\n",
    "\n",
    "Here is a standard usage"
   ]
  },
  {
   "cell_type": "code",
   "execution_count": null,
   "id": "similar-field",
   "metadata": {},
   "outputs": [],
   "source": [
    "fig, ax = plt.subplots(figsize=(10,5))  # Create a figure containing a single axes.\n",
    "ax.plot(data.dec_year, data.Vert, label='Vertical component')\n",
    "for label in (ax.get_xticklabels() + ax.get_yticklabels()): label.set_fontsize(16)\n",
    "ax.set_xlabel('years', fontsize=18.0)  # Add an x-label to the axes.\n",
    "ax.set_ylabel('meters', fontsize=18.0)  # Add a y-label to the axes.\n",
    "ax.set_title(\"GNSS record at ONSA\", fontsize=20.0)  # Add a title to the axes.\n",
    "ax.legend()  # Add a legend.\n",
    "plt.savefig('onsa.jpg') # save your plot locally "
   ]
  },
  {
   "cell_type": "markdown",
   "id": "fourth-training",
   "metadata": {},
   "source": [
    "## Fiting data\n",
    "text\n",
    "\n",
    "## Redo for more sites\n",
    "text \n",
    "\n",
    "## Exercises\n",
    "text"
   ]
  },
  {
   "cell_type": "code",
   "execution_count": null,
   "id": "personal-direction",
   "metadata": {},
   "outputs": [],
   "source": []
  }
 ],
 "metadata": {
  "kernelspec": {
   "display_name": "Python 3",
   "language": "python",
   "name": "python3"
  },
  "language_info": {
   "codemirror_mode": {
    "name": "ipython",
    "version": 3
   },
   "file_extension": ".py",
   "mimetype": "text/x-python",
   "name": "python",
   "nbconvert_exporter": "python",
   "pygments_lexer": "ipython3",
   "version": "3.8.8"
  }
 },
 "nbformat": 4,
 "nbformat_minor": 5
}
